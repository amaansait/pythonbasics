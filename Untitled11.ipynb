{
  "nbformat": 4,
  "nbformat_minor": 0,
  "metadata": {
    "colab": {
      "provenance": [],
      "authorship_tag": "ABX9TyN3TKGwANmcUr5JOxOZ4emM",
      "include_colab_link": true
    },
    "kernelspec": {
      "name": "python3",
      "display_name": "Python 3"
    },
    "language_info": {
      "name": "python"
    }
  },
  "cells": [
    {
      "cell_type": "markdown",
      "metadata": {
        "id": "view-in-github",
        "colab_type": "text"
      },
      "source": [
        "<a href=\"https://colab.research.google.com/github/amaansait/pythonbasics/blob/main/Untitled11.ipynb\" target=\"_parent\"><img src=\"https://colab.research.google.com/assets/colab-badge.svg\" alt=\"Open In Colab\"/></a>"
      ]
    },
    {
      "cell_type": "code",
      "execution_count": 2,
      "metadata": {
        "colab": {
          "base_uri": "https://localhost:8080/"
        },
        "id": "jurZtpVc1eDE",
        "outputId": "2e150ca3-eb7e-44e0-daba-8a4c0184ee5d"
      },
      "outputs": [
        {
          "output_type": "execute_result",
          "data": {
            "text/plain": [
              "int"
            ]
          },
          "metadata": {},
          "execution_count": 2
        }
      ],
      "source": [
        "x=1\n",
        "type(x)"
      ]
    },
    {
      "cell_type": "code",
      "source": [
        "y=1.5\n",
        "type(y)"
      ],
      "metadata": {
        "colab": {
          "base_uri": "https://localhost:8080/"
        },
        "id": "LjGdnep73GEh",
        "outputId": "937518d7-ac32-46de-ad2b-c775afbb5651"
      },
      "execution_count": 4,
      "outputs": [
        {
          "output_type": "execute_result",
          "data": {
            "text/plain": [
              "float"
            ]
          },
          "metadata": {},
          "execution_count": 4
        }
      ]
    },
    {
      "cell_type": "code",
      "source": [
        "a=1.5\n",
        "b=2\n",
        "type(a+b)\n"
      ],
      "metadata": {
        "colab": {
          "base_uri": "https://localhost:8080/"
        },
        "id": "wb04O8oZ3WQn",
        "outputId": "f9e6d010-93b2-4e31-f7e3-593981a88db3"
      },
      "execution_count": 5,
      "outputs": [
        {
          "output_type": "execute_result",
          "data": {
            "text/plain": [
              "float"
            ]
          },
          "metadata": {},
          "execution_count": 5
        }
      ]
    },
    {
      "cell_type": "code",
      "source": [
        "c=10+5j\n",
        "type(c)"
      ],
      "metadata": {
        "colab": {
          "base_uri": "https://localhost:8080/"
        },
        "id": "k2OMeFSb3h28",
        "outputId": "7ef3c4b8-605f-40b6-f9f1-7b89660d435f"
      },
      "execution_count": 6,
      "outputs": [
        {
          "output_type": "execute_result",
          "data": {
            "text/plain": [
              "complex"
            ]
          },
          "metadata": {},
          "execution_count": 6
        }
      ]
    },
    {
      "cell_type": "code",
      "source": [
        "name=\"amaan\"\n",
        "type(name)"
      ],
      "metadata": {
        "colab": {
          "base_uri": "https://localhost:8080/"
        },
        "id": "2N8cNghz4NGm",
        "outputId": "42f3d257-5bd6-426f-f38a-ee554662f015"
      },
      "execution_count": 7,
      "outputs": [
        {
          "output_type": "execute_result",
          "data": {
            "text/plain": [
              "str"
            ]
          },
          "metadata": {},
          "execution_count": 7
        }
      ]
    },
    {
      "cell_type": "code",
      "source": [
        "s=\"this is rajagiri u all r here in merit\"\n",
        "type(s)"
      ],
      "metadata": {
        "colab": {
          "base_uri": "https://localhost:8080/"
        },
        "id": "_ak35XH64cWd",
        "outputId": "7f92c492-4a0a-4a5b-d45f-23c9d61b9c59"
      },
      "execution_count": 8,
      "outputs": [
        {
          "output_type": "execute_result",
          "data": {
            "text/plain": [
              "str"
            ]
          },
          "metadata": {},
          "execution_count": 8
        }
      ]
    },
    {
      "cell_type": "code",
      "source": [
        "print(friends[1])"
      ],
      "metadata": {
        "colab": {
          "base_uri": "https://localhost:8080/"
        },
        "id": "eHAuQ5JW5D_P",
        "outputId": "4f115132-f037-49eb-cf96-d7ebf64e9159"
      },
      "execution_count": 13,
      "outputs": [
        {
          "output_type": "stream",
          "name": "stdout",
          "text": [
            "ravan\n"
          ]
        }
      ]
    },
    {
      "cell_type": "code",
      "source": [
        "print(friends[0])"
      ],
      "metadata": {
        "colab": {
          "base_uri": "https://localhost:8080/"
        },
        "id": "ZJipFzvd6THm",
        "outputId": "9956ae40-091c-41d0-aace-11b00cf663b3"
      },
      "execution_count": 14,
      "outputs": [
        {
          "output_type": "stream",
          "name": "stdout",
          "text": [
            "ram\n"
          ]
        }
      ]
    },
    {
      "cell_type": "code",
      "source": [
        "friends=['ram','ravi','rahul','ravan']\n",
        "print(friends)\n",
        "type(friends)"
      ],
      "metadata": {
        "colab": {
          "base_uri": "https://localhost:8080/"
        },
        "id": "ao28mn9d4niE",
        "outputId": "57c08350-ab58-4335-f60f-75791c9ad142"
      },
      "execution_count": 16,
      "outputs": [
        {
          "output_type": "stream",
          "name": "stdout",
          "text": [
            "['ram', 'ravi', 'rahul', 'ravan']\n"
          ]
        },
        {
          "output_type": "execute_result",
          "data": {
            "text/plain": [
              "list"
            ]
          },
          "metadata": {},
          "execution_count": 16
        }
      ]
    },
    {
      "cell_type": "code",
      "source": [
        "print(friends[3])"
      ],
      "metadata": {
        "colab": {
          "base_uri": "https://localhost:8080/"
        },
        "id": "6ZP_Fhx16tvs",
        "outputId": "85d3b90a-6926-44b7-b77c-3770e34e949e"
      },
      "execution_count": 15,
      "outputs": [
        {
          "output_type": "stream",
          "name": "stdout",
          "text": [
            "rahul\n"
          ]
        }
      ]
    },
    {
      "cell_type": "code",
      "source": [
        "friends=['ram','ravi','rahul','ravan']\n",
        "alphabets=['a','b','c','d']\n",
        "y=friends+alphabets\n",
        "print(y)\n",
        "friends.pop()"
      ],
      "metadata": {
        "colab": {
          "base_uri": "https://localhost:8080/",
          "height": 52
        },
        "id": "GnPQaOE_62xF",
        "outputId": "ef2a0c41-e939-47f7-c97d-97d177fd7bbe"
      },
      "execution_count": 27,
      "outputs": [
        {
          "output_type": "stream",
          "name": "stdout",
          "text": [
            "['ram', 'ravi', 'rahul', 'ravan', 'a', 'b', 'c', 'd']\n"
          ]
        },
        {
          "output_type": "execute_result",
          "data": {
            "text/plain": [
              "'ravan'"
            ],
            "application/vnd.google.colaboratory.intrinsic+json": {
              "type": "string"
            }
          },
          "metadata": {},
          "execution_count": 27
        }
      ]
    },
    {
      "cell_type": "code",
      "source": [
        "friends.pop(1)"
      ],
      "metadata": {
        "colab": {
          "base_uri": "https://localhost:8080/",
          "height": 35
        },
        "id": "EenXVQTP8Uwa",
        "outputId": "afccf501-588b-4f9d-ab0f-ed233266a193"
      },
      "execution_count": 28,
      "outputs": [
        {
          "output_type": "execute_result",
          "data": {
            "text/plain": [
              "'ravi'"
            ],
            "application/vnd.google.colaboratory.intrinsic+json": {
              "type": "string"
            }
          },
          "metadata": {},
          "execution_count": 28
        }
      ]
    },
    {
      "cell_type": "code",
      "source": [
        "friends=['ram','ravi','rahul','ravan']\n",
        "friends.append('rohit')\n",
        "print(friends)\n",
        "friends.sort()\n",
        "print(friends)\n",
        "friends.reverse()\n",
        "print(friends)\n",
        "friends.insert(1,\"raj\")\n",
        "print(friends)"
      ],
      "metadata": {
        "colab": {
          "base_uri": "https://localhost:8080/"
        },
        "id": "htKVrY368hxX",
        "outputId": "75453e00-0ee1-47d4-e465-d4c7d2efbd6d"
      },
      "execution_count": 38,
      "outputs": [
        {
          "output_type": "stream",
          "name": "stdout",
          "text": [
            "['ram', 'ravi', 'rahul', 'ravan', 'rohit']\n",
            "['rahul', 'ram', 'ravan', 'ravi', 'rohit']\n",
            "['rohit', 'ravi', 'ravan', 'ram', 'rahul']\n",
            "['rohit', 'raj', 'ravi', 'ravan', 'ram', 'rahul']\n"
          ]
        }
      ]
    },
    {
      "cell_type": "code",
      "source": [
        "s=(10,20,30,\"rahul\",\"raj\",\"ram\")\n",
        "type(s)\n"
      ],
      "metadata": {
        "colab": {
          "base_uri": "https://localhost:8080/"
        },
        "id": "4q0S0k9S9-in",
        "outputId": "b8e6f202-8683-4d84-a1d3-2f18bbde5461"
      },
      "execution_count": 47,
      "outputs": [
        {
          "output_type": "execute_result",
          "data": {
            "text/plain": [
              "tuple"
            ]
          },
          "metadata": {},
          "execution_count": 47
        }
      ]
    },
    {
      "cell_type": "code",
      "source": [
        "h={1,2,3,4,5,6,7}\n",
        "type(h)"
      ],
      "metadata": {
        "colab": {
          "base_uri": "https://localhost:8080/"
        },
        "id": "J-hW8XtyDMno",
        "outputId": "d6917d65-64cf-4687-f422-dfc204321155"
      },
      "execution_count": 48,
      "outputs": [
        {
          "output_type": "execute_result",
          "data": {
            "text/plain": [
              "set"
            ]
          },
          "metadata": {},
          "execution_count": 48
        }
      ]
    },
    {
      "cell_type": "code",
      "source": [
        "marks=[10,20,20,30,40]\n",
        "score=set(marks)\n",
        "print(score)"
      ],
      "metadata": {
        "colab": {
          "base_uri": "https://localhost:8080/"
        },
        "id": "_utfA2RUF584",
        "outputId": "6771046b-48c0-4940-a475-9053746bce86"
      },
      "execution_count": 53,
      "outputs": [
        {
          "output_type": "stream",
          "name": "stdout",
          "text": [
            "{40, 10, 20, 30}\n"
          ]
        }
      ]
    },
    {
      "cell_type": "code",
      "source": [
        "d={'name':'amaan','phone number':'9876543210','place':'chullickal'}\n",
        "print(d)\n",
        "print(d.keys())\n",
        "print(d.values())\n",
        "print(d.items())\n",
        "d.update({\"dob\":\"12-12-2022\"})\n",
        "print(d)\n",
        "d['name']='ram'\n",
        "print(d)"
      ],
      "metadata": {
        "colab": {
          "base_uri": "https://localhost:8080/"
        },
        "id": "cFeLEpYqGTPW",
        "outputId": "9ae69fd9-484f-479f-fb6f-b3391c4b5f85"
      },
      "execution_count": 65,
      "outputs": [
        {
          "output_type": "stream",
          "name": "stdout",
          "text": [
            "{'name': 'amaan', 'phone number': '9876543210', 'place': 'chullickal'}\n",
            "dict_keys(['name', 'phone number', 'place'])\n",
            "dict_values(['amaan', '9876543210', 'chullickal'])\n",
            "dict_items([('name', 'amaan'), ('phone number', '9876543210'), ('place', 'chullickal')])\n",
            "{'name': 'amaan', 'phone number': '9876543210', 'place': 'chullickal', 'dob': '12-12-2022'}\n",
            "{'name': 'ram', 'phone number': '9876543210', 'place': 'chullickal', 'dob': '12-12-2022'}\n"
          ]
        }
      ]
    },
    {
      "cell_type": "code",
      "source": [
        "def add(x,y):\n",
        "  return(x+y)\n",
        "add(2,3)  "
      ],
      "metadata": {
        "colab": {
          "base_uri": "https://localhost:8080/"
        },
        "id": "RU03GWKAIf2k",
        "outputId": "4a70de32-cf6d-4c82-f26d-5508abcc21db"
      },
      "execution_count": 66,
      "outputs": [
        {
          "output_type": "execute_result",
          "data": {
            "text/plain": [
              "5"
            ]
          },
          "metadata": {},
          "execution_count": 66
        }
      ]
    },
    {
      "cell_type": "code",
      "source": [
        "def multiplication(x,y,z):\n",
        "  return(x*y*z)\n",
        "multiplication(2,3,4)  "
      ],
      "metadata": {
        "colab": {
          "base_uri": "https://localhost:8080/"
        },
        "id": "71svGE1_L-q9",
        "outputId": "ad1efe15-a3b5-405f-f3ab-7e341a410948"
      },
      "execution_count": 68,
      "outputs": [
        {
          "output_type": "execute_result",
          "data": {
            "text/plain": [
              "24"
            ]
          },
          "metadata": {},
          "execution_count": 68
        }
      ]
    },
    {
      "cell_type": "code",
      "source": [],
      "metadata": {
        "id": "73mQj8eTMLzh"
      },
      "execution_count": null,
      "outputs": []
    }
  ]
}