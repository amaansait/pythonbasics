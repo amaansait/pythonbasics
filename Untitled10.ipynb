{
  "nbformat": 4,
  "nbformat_minor": 0,
  "metadata": {
    "colab": {
      "provenance": [],
      "authorship_tag": "ABX9TyOzfBxnMiceshGxKmFjF73u",
      "include_colab_link": true
    },
    "kernelspec": {
      "name": "python3",
      "display_name": "Python 3"
    },
    "language_info": {
      "name": "python"
    }
  },
  "cells": [
    {
      "cell_type": "markdown",
      "metadata": {
        "id": "view-in-github",
        "colab_type": "text"
      },
      "source": [
        "<a href=\"https://colab.research.google.com/github/amaansait/pythonbasics/blob/main/Untitled10.ipynb\" target=\"_parent\"><img src=\"https://colab.research.google.com/assets/colab-badge.svg\" alt=\"Open In Colab\"/></a>"
      ]
    },
    {
      "cell_type": "code",
      "execution_count": null,
      "metadata": {
        "colab": {
          "base_uri": "https://localhost:8080/"
        },
        "id": "-F1tYaW80Lvs",
        "outputId": "993b2b5e-f148-484b-f33d-1559963281b3"
      },
      "outputs": [
        {
          "output_type": "stream",
          "name": "stdout",
          "text": [
            "Enter a number 80\n",
            "1 x 80 = 80\n",
            "2 x 80 = 160\n",
            "3 x 80 = 240\n",
            "4 x 80 = 320\n",
            "5 x 80 = 400\n",
            "6 x 80 = 480\n",
            "7 x 80 = 560\n",
            "8 x 80 = 640\n",
            "9 x 80 = 720\n",
            "10 x 80 = 800\n"
          ]
        }
      ],
      "source": [
        "n=int(input('Enter a number '))\n",
        "for i in range(1,11):\n",
        "  print(i,'x',n,'=',i*n)"
      ]
    },
    {
      "cell_type": "code",
      "source": [
        "n=int(input('Enter a number '))\n",
        "a=1\n",
        "while a<=10:\n",
        "  print(a,'x',n,'=',a*n)\n",
        "  a=a+1"
      ],
      "metadata": {
        "colab": {
          "base_uri": "https://localhost:8080/"
        },
        "id": "yJusRvhb1tAu",
        "outputId": "ae9750ee-c6ac-48e9-b51b-9b2f6c5bb34b"
      },
      "execution_count": null,
      "outputs": [
        {
          "output_type": "stream",
          "name": "stdout",
          "text": [
            "Enter a number 90\n",
            "1 x 90 = 90\n",
            "2 x 90 = 180\n",
            "3 x 90 = 270\n",
            "4 x 90 = 360\n",
            "5 x 90 = 450\n",
            "6 x 90 = 540\n",
            "7 x 90 = 630\n",
            "8 x 90 = 720\n",
            "9 x 90 = 810\n",
            "10 x 90 = 900\n"
          ]
        }
      ]
    },
    {
      "cell_type": "code",
      "source": [
        "num=int(input())\n",
        "i=1\n",
        "while(i<=10):\n",
        "  print(i*num)\n",
        "  i=i+1"
      ],
      "metadata": {
        "colab": {
          "base_uri": "https://localhost:8080/"
        },
        "id": "z_jKr_QV2T51",
        "outputId": "8c56b839-fec6-4725-9e03-23bab21670c1"
      },
      "execution_count": null,
      "outputs": [
        {
          "output_type": "stream",
          "name": "stdout",
          "text": [
            "12\n",
            "12\n",
            "24\n",
            "36\n",
            "48\n",
            "60\n",
            "72\n",
            "84\n",
            "96\n",
            "108\n",
            "120\n"
          ]
        }
      ]
    },
    {
      "cell_type": "code",
      "source": [
        "num=input(\"enter the number\")\n",
        "d=0\n",
        "for i in num:\n",
        "  #print(i)\n",
        "  d=d+1\n",
        "print(d)"
      ],
      "metadata": {
        "colab": {
          "base_uri": "https://localhost:8080/"
        },
        "id": "H7dbQ4pS22wX",
        "outputId": "17dd8df6-e3c1-46f3-b87f-54d52d045ffd"
      },
      "execution_count": null,
      "outputs": [
        {
          "output_type": "stream",
          "name": "stdout",
          "text": [
            "enter the number2004\n",
            "4\n"
          ]
        }
      ]
    },
    {
      "cell_type": "code",
      "source": [
        "x=input(\"enter a name\")\n",
        "x=x.replace('a','k')\n",
        "print(x)"
      ],
      "metadata": {
        "colab": {
          "base_uri": "https://localhost:8080/"
        },
        "id": "IfsxneHI3bzu",
        "outputId": "ec19bf5a-b5b4-4bee-905e-105ed9a9144b"
      },
      "execution_count": 8,
      "outputs": [
        {
          "output_type": "stream",
          "name": "stdout",
          "text": [
            "enter a nameamaan\n",
            "kmkkn\n"
          ]
        }
      ]
    },
    {
      "cell_type": "code",
      "source": [
        "m1=['bangladesh','india','nepal','pakistan','usa']\n",
        "print (m1)\n",
        "m1.append('france')\n",
        "print(m1)\n",
        "m1.remove(\"pakistan\")\n",
        "print(m1)\n",
        "m1.reverse()\n",
        "print(m1)\n",
        "m1.append('canada')\n",
        "print(m1)\n",
        "len(m1)"
      ],
      "metadata": {
        "colab": {
          "base_uri": "https://localhost:8080/"
        },
        "id": "R14qXyrq9tnm",
        "outputId": "b0d9e64b-fb91-4bd3-db2f-2b714739822b"
      },
      "execution_count": 17,
      "outputs": [
        {
          "output_type": "stream",
          "name": "stdout",
          "text": [
            "['bangladesh', 'india', 'nepal', 'pakistan', 'usa']\n",
            "['bangladesh', 'india', 'nepal', 'pakistan', 'usa', 'france']\n",
            "['bangladesh', 'india', 'nepal', 'usa', 'france']\n",
            "['france', 'usa', 'nepal', 'india', 'bangladesh']\n",
            "['france', 'usa', 'nepal', 'india', 'bangladesh', 'canada']\n"
          ]
        },
        {
          "output_type": "execute_result",
          "data": {
            "text/plain": [
              "6"
            ]
          },
          "metadata": {},
          "execution_count": 17
        }
      ]
    },
    {
      "cell_type": "code",
      "source": [],
      "metadata": {
        "id": "1hNIjWks-zGX"
      },
      "execution_count": null,
      "outputs": []
    }
  ]
}