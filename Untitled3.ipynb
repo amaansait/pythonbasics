{
  "nbformat": 4,
  "nbformat_minor": 0,
  "metadata": {
    "colab": {
      "provenance": [],
      "authorship_tag": "ABX9TyNnI5QMUAz/D2adaa3u7q6d",
      "include_colab_link": true
    },
    "kernelspec": {
      "name": "python3",
      "display_name": "Python 3"
    },
    "language_info": {
      "name": "python"
    }
  },
  "cells": [
    {
      "cell_type": "markdown",
      "metadata": {
        "id": "view-in-github",
        "colab_type": "text"
      },
      "source": [
        "<a href=\"https://colab.research.google.com/github/amaansait/pythonbasics/blob/main/Untitled3.ipynb\" target=\"_parent\"><img src=\"https://colab.research.google.com/assets/colab-badge.svg\" alt=\"Open In Colab\"/></a>"
      ]
    },
    {
      "cell_type": "code",
      "execution_count": 6,
      "metadata": {
        "colab": {
          "base_uri": "https://localhost:8080/"
        },
        "id": "QV1wu_uUhqL_",
        "outputId": "893191d1-549c-4b0f-852b-bf965e11d7c1"
      },
      "outputs": [
        {
          "output_type": "stream",
          "name": "stdout",
          "text": [
            "55\n"
          ]
        }
      ],
      "source": [
        "x=[1,2,3,4,5,6,7,8,9,10]\n",
        "k=0\n",
        "for i in x:\n",
        "  k=k+i  \n",
        "print(k)\n"
      ]
    },
    {
      "cell_type": "code",
      "source": [
        "x=[1,2,3,4,5,6,7,8,9,10,10]\n",
        "k=0\n",
        "for i in x:\n",
        " if i!=10:\n",
        "    k=k+i \n",
        "print(k)   "
      ],
      "metadata": {
        "colab": {
          "base_uri": "https://localhost:8080/"
        },
        "id": "qEFmb92Fiv82",
        "outputId": "bfdcee7c-3e56-4884-ca68-658633118dec"
      },
      "execution_count": 19,
      "outputs": [
        {
          "output_type": "stream",
          "name": "stdout",
          "text": [
            "45\n"
          ]
        }
      ]
    },
    {
      "cell_type": "code",
      "source": [
        "k=0\n",
        "for i in range(101):\n",
        " k=k+i\n",
        "print(k)  "
      ],
      "metadata": {
        "colab": {
          "base_uri": "https://localhost:8080/"
        },
        "id": "ZfZleK97oldG",
        "outputId": "0e1824bb-a7de-431b-e54f-e992ed4cab2f"
      },
      "execution_count": 36,
      "outputs": [
        {
          "output_type": "stream",
          "name": "stdout",
          "text": [
            "5050\n"
          ]
        }
      ]
    },
    {
      "cell_type": "code",
      "source": [
        "k=0\n",
        "while k<1:\n",
        "  print(k+1)\n",
        "  for i in range(101):\n",
        " k=k+i\n",
        "print(k)  "
      ],
      "metadata": {
        "colab": {
          "base_uri": "https://localhost:8080/",
          "height": 130
        },
        "id": "cu6gOjg_uZxY",
        "outputId": "93a7ee9c-5527-4f99-87fb-c52252b19457"
      },
      "execution_count": 56,
      "outputs": [
        {
          "output_type": "error",
          "ename": "IndentationError",
          "evalue": "ignored",
          "traceback": [
            "\u001b[0;36m  File \u001b[0;32m\"<tokenize>\"\u001b[0;36m, line \u001b[0;32m5\u001b[0m\n\u001b[0;31m    k=k+i\u001b[0m\n\u001b[0m    ^\u001b[0m\n\u001b[0;31mIndentationError\u001b[0m\u001b[0;31m:\u001b[0m unindent does not match any outer indentation level\n"
          ]
        }
      ]
    },
    {
      "cell_type": "code",
      "source": [],
      "metadata": {
        "id": "DgJghkncvQ5_"
      },
      "execution_count": 54,
      "outputs": []
    },
    {
      "cell_type": "code",
      "source": [
        "k=1\n",
        "for i in range(101):\n",
        "  if i!=0:\n",
        "    k=k*i\n",
        "print(k)  "
      ],
      "metadata": {
        "colab": {
          "base_uri": "https://localhost:8080/"
        },
        "id": "ElgCBLY3o4R7",
        "outputId": "6123da34-fb34-4cd6-8b5e-f80f64f4433f"
      },
      "execution_count": 45,
      "outputs": [
        {
          "output_type": "stream",
          "name": "stdout",
          "text": [
            "93326215443944152681699238856266700490715968264381621468592963895217599993229915608941463976156518286253697920827223758251185210916864000000000000000000000000\n"
          ]
        }
      ]
    },
    {
      "cell_type": "code",
      "source": [
        "k=0\n",
        "while k<10:\n",
        "  print(k) \n",
        "  k=k+1 "
      ],
      "metadata": {
        "colab": {
          "base_uri": "https://localhost:8080/"
        },
        "id": "6RPXuEb1rd_H",
        "outputId": "a32fa0a5-f848-47e0-d22b-862f38d9417e"
      },
      "execution_count": 47,
      "outputs": [
        {
          "output_type": "stream",
          "name": "stdout",
          "text": [
            "0\n",
            "1\n",
            "2\n",
            "3\n",
            "4\n",
            "5\n",
            "6\n",
            "7\n",
            "8\n",
            "9\n"
          ]
        }
      ]
    },
    {
      "cell_type": "code",
      "source": [
        "k=0\n",
        "a=0\n",
        "while a<100:\n",
        "  a=a+1\n",
        "  k=k+a\n",
        "print(k)"
      ],
      "metadata": {
        "colab": {
          "base_uri": "https://localhost:8080/"
        },
        "id": "JVPxNA80vqGp",
        "outputId": "bc029552-3605-4b10-8b8b-d7181fc0ec33"
      },
      "execution_count": 60,
      "outputs": [
        {
          "output_type": "stream",
          "name": "stdout",
          "text": [
            "5050\n"
          ]
        }
      ]
    },
    {
      "cell_type": "code",
      "source": [
        "k=1\n",
        "a=1\n",
        "while a<100:\n",
        "  a=a+1\n",
        "  k=k*a\n",
        "print(k)"
      ],
      "metadata": {
        "colab": {
          "base_uri": "https://localhost:8080/"
        },
        "id": "0pq3QX58y92B",
        "outputId": "84698b20-f163-4eef-83ad-84c62ae37d99"
      },
      "execution_count": 62,
      "outputs": [
        {
          "output_type": "stream",
          "name": "stdout",
          "text": [
            "93326215443944152681699238856266700490715968264381621468592963895217599993229915608941463976156518286253697920827223758251185210916864000000000000000000000000\n"
          ]
        }
      ]
    },
    {
      "cell_type": "code",
      "source": [
        "k=0\n",
        "while k<10:\n",
        "  if k==5:\n",
        "    break;\n",
        "  k=k+1\n",
        "  print(k)"
      ],
      "metadata": {
        "colab": {
          "base_uri": "https://localhost:8080/"
        },
        "id": "0aBdu6slzZvh",
        "outputId": "41afc0cf-b8ad-4efb-9c7b-0cb9ee3f3529"
      },
      "execution_count": 73,
      "outputs": [
        {
          "output_type": "stream",
          "name": "stdout",
          "text": [
            "1\n",
            "2\n",
            "3\n",
            "4\n",
            "5\n"
          ]
        }
      ]
    },
    {
      "cell_type": "code",
      "source": [
        "k=0\n",
        "while k<10:\n",
        "  k=k+1\n",
        "  if k==5:\n",
        "   continue;\n",
        "  print(k)"
      ],
      "metadata": {
        "colab": {
          "base_uri": "https://localhost:8080/"
        },
        "id": "M1CaL76x1AfC",
        "outputId": "768b9d22-bf40-4a02-bf6f-2dd3f8622ba4"
      },
      "execution_count": 76,
      "outputs": [
        {
          "output_type": "stream",
          "name": "stdout",
          "text": [
            "1\n",
            "2\n",
            "3\n",
            "4\n",
            "6\n",
            "7\n",
            "8\n",
            "9\n",
            "10\n"
          ]
        }
      ]
    },
    {
      "cell_type": "code",
      "source": [],
      "metadata": {
        "id": "7LfqAPwX1sF1"
      },
      "execution_count": null,
      "outputs": []
    }
  ]
}