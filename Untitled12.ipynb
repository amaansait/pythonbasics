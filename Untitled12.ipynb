{
  "nbformat": 4,
  "nbformat_minor": 0,
  "metadata": {
    "colab": {
      "provenance": [],
      "authorship_tag": "ABX9TyM/ojnHVajOUQt2SiCmixED",
      "include_colab_link": true
    },
    "kernelspec": {
      "name": "python3",
      "display_name": "Python 3"
    },
    "language_info": {
      "name": "python"
    }
  },
  "cells": [
    {
      "cell_type": "markdown",
      "metadata": {
        "id": "view-in-github",
        "colab_type": "text"
      },
      "source": [
        "<a href=\"https://colab.research.google.com/github/amaansait/pythonbasics/blob/main/Untitled12.ipynb\" target=\"_parent\"><img src=\"https://colab.research.google.com/assets/colab-badge.svg\" alt=\"Open In Colab\"/></a>"
      ]
    },
    {
      "cell_type": "code",
      "execution_count": 5,
      "metadata": {
        "colab": {
          "base_uri": "https://localhost:8080/",
          "height": 0
        },
        "id": "U_kbCNX3tU08",
        "outputId": "7bdaf491-b2b2-4664-ada3-5e976ffbf3a4"
      },
      "outputs": [
        {
          "output_type": "stream",
          "name": "stdout",
          "text": [
            "FIFA WORLD CUP\n"
          ]
        }
      ],
      "source": [
        "def amaan():\n",
        " print(\"FIFA WORLD CUP\")\n",
        "amaan()"
      ]
    },
    {
      "cell_type": "code",
      "source": [
        "def jeff(a,b,c):\n",
        "  print(a,b,c)\n",
        "\n",
        "jeff('Amaan','Shameem','sait')"
      ],
      "metadata": {
        "colab": {
          "base_uri": "https://localhost:8080/"
        },
        "id": "zPHJl6IxvZ2O",
        "outputId": "82b91e15-a422-436f-a5f0-82a57445629a"
      },
      "execution_count": 7,
      "outputs": [
        {
          "output_type": "stream",
          "name": "stdout",
          "text": [
            "Amaan Shameem sait\n"
          ]
        }
      ]
    },
    {
      "cell_type": "code",
      "source": [
        "def jeff(a,b,c):\n",
        "  print(c,a,b)\n",
        "\n",
        "jeff(c='sait',b='Shameem',a='amaan')"
      ],
      "metadata": {
        "colab": {
          "base_uri": "https://localhost:8080/"
        },
        "id": "fDak8bCSxDcc",
        "outputId": "22ba75d1-e3f7-489d-f6f7-3c1a6084e846"
      },
      "execution_count": 9,
      "outputs": [
        {
          "output_type": "stream",
          "name": "stdout",
          "text": [
            "sait amaan Shameem\n"
          ]
        }
      ]
    },
    {
      "cell_type": "code",
      "source": [
        "def fun_names(*x):\n",
        "  print('the second favorite football player: ',x[1])\n",
        "\n",
        "fun_names('messi','Ronaldo','Neymar')"
      ],
      "metadata": {
        "colab": {
          "base_uri": "https://localhost:8080/"
        },
        "id": "2HsgN0NKxkpo",
        "outputId": "88ea8ac4-4c3a-4d77-8ffa-973e5d07128b"
      },
      "execution_count": 11,
      "outputs": [
        {
          "output_type": "stream",
          "name": "stdout",
          "text": [
            "the second favorite football player:  Ronaldo\n"
          ]
        }
      ]
    },
    {
      "cell_type": "code",
      "source": [
        "def fun_name(country=\"mexico\"):\n",
        "  print(\"i am from\"+country)\n",
        "\n",
        "fun_name(\"sweden\")\n",
        "fun_name(\"india\")\n",
        "fun_name()\n",
        "fun_name(\"argentina\")"
      ],
      "metadata": {
        "colab": {
          "base_uri": "https://localhost:8080/"
        },
        "id": "5xKZGhZhzqAw",
        "outputId": "2d8d8920-53fb-4737-daa9-c19588e91391"
      },
      "execution_count": 16,
      "outputs": [
        {
          "output_type": "stream",
          "name": "stdout",
          "text": [
            "i am fromsweden\n",
            "i am fromindia\n",
            "i am frommexico\n",
            "i am fromargentina\n"
          ]
        }
      ]
    },
    {
      "cell_type": "code",
      "source": [
        "def fun_name(x):\n",
        "  for y in x:\n",
        "    print(y)\n",
        "\n",
        "k=[\"john\",\"adam\",\"mathew\"] \n",
        "fun_name(k)   "
      ],
      "metadata": {
        "colab": {
          "base_uri": "https://localhost:8080/"
        },
        "id": "TdgvHM732bMa",
        "outputId": "37985a27-990a-47c3-eb74-60f83f00a7c2"
      },
      "execution_count": 18,
      "outputs": [
        {
          "output_type": "stream",
          "name": "stdout",
          "text": [
            "john\n",
            "adam\n",
            "mathew\n"
          ]
        }
      ]
    },
    {
      "cell_type": "code",
      "source": [
        "def fun_name(x):\n",
        "  return"
      ],
      "metadata": {
        "id": "MH7zYfxT4hv7"
      },
      "execution_count": null,
      "outputs": []
    }
  ]
}