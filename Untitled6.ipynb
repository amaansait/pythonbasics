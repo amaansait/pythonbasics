{
  "nbformat": 4,
  "nbformat_minor": 0,
  "metadata": {
    "colab": {
      "provenance": [],
      "authorship_tag": "ABX9TyPrbaN1VFmXzsshE9m+8v93",
      "include_colab_link": true
    },
    "kernelspec": {
      "name": "python3",
      "display_name": "Python 3"
    },
    "language_info": {
      "name": "python"
    }
  },
  "cells": [
    {
      "cell_type": "markdown",
      "metadata": {
        "id": "view-in-github",
        "colab_type": "text"
      },
      "source": [
        "<a href=\"https://colab.research.google.com/github/amaansait/pythonbasics/blob/main/Untitled6.ipynb\" target=\"_parent\"><img src=\"https://colab.research.google.com/assets/colab-badge.svg\" alt=\"Open In Colab\"/></a>"
      ]
    },
    {
      "cell_type": "code",
      "execution_count": null,
      "metadata": {
        "colab": {
          "base_uri": "https://localhost:8080/"
        },
        "id": "0uedwsW9oQvL",
        "outputId": "e6e34045-144c-4631-b2df-6de9eda343ab"
      },
      "outputs": [
        {
          "output_type": "stream",
          "name": "stdout",
          "text": [
            "enter the passenger sourceern\n",
            "enter the passenger destinationkollam\n",
            "enter the totalpassenger100\n",
            "ern\n",
            "kollam\n",
            "100\n",
            "passenger souce ern passenger destination kollam total passenger 100\n"
          ]
        }
      ],
      "source": [
        "x=input(\"enter the passenger source\")\n",
        "y=input(\"enter the passenger destination\")\n",
        "z=input(\"enter the totalpassenger\")\n",
        "print(x)\n",
        "print(y)\n",
        "print(z)\n",
        "print(\"passenger souce\",x,\"passenger destination\",y,\"total passenger\",z)"
      ]
    },
    {
      "cell_type": "code",
      "source": [
        "x=input(\"enter the passenger name\")\n",
        "y=input(\"enter the passenger ticket fare\")\n",
        "print(\"passenger name\",x,\"passenger fare\",y)"
      ],
      "metadata": {
        "colab": {
          "base_uri": "https://localhost:8080/"
        },
        "id": "-86vM55ypUjR",
        "outputId": "5e78e5d5-6f25-45f5-b7c0-7e71e996265e"
      },
      "execution_count": null,
      "outputs": [
        {
          "output_type": "stream",
          "name": "stdout",
          "text": [
            "enter the passenger nameamaan\n",
            "enter the passenger ticket fare1500\n",
            "passenger name amaan passenger fare 1500\n"
          ]
        }
      ]
    },
    {
      "cell_type": "code",
      "source": [
        "x=int(input(\"enter total fare\"))\n",
        "if x>10000:\n",
        "  print (\"eligible for discount\")\n",
        "else:\n",
        "  print(\"not eligible\")  "
      ],
      "metadata": {
        "colab": {
          "base_uri": "https://localhost:8080/"
        },
        "id": "eBLDashPrwDq",
        "outputId": "e3f16f61-4224-408f-81ea-95b06a749b9b"
      },
      "execution_count": null,
      "outputs": [
        {
          "output_type": "stream",
          "name": "stdout",
          "text": [
            "enter total fare7000\n",
            "not eligible\n"
          ]
        }
      ]
    },
    {
      "cell_type": "code",
      "source": [
        "x=int(input(\"enter total fare\"))\n",
        "if x>15000:\n",
        "  print (\"eligible for 20% discount\")\n",
        "else:\n",
        "  print(\"eligible 10% discount\")  "
      ],
      "metadata": {
        "colab": {
          "base_uri": "https://localhost:8080/"
        },
        "id": "ZyXtTjB8teB3",
        "outputId": "deff35e7-ace4-4de0-9838-e24bd890f6bd"
      },
      "execution_count": null,
      "outputs": [
        {
          "output_type": "stream",
          "name": "stdout",
          "text": [
            "enter total fare25000\n",
            "eligible for 20% discount\n"
          ]
        }
      ]
    },
    {
      "cell_type": "code",
      "source": [
        "x=int(input(\"enter the total fare\"))\n",
        "y=(x*20)/100\n",
        "if x>15000:\n",
        "  print(\"the discount fare\",y)\n",
        "  print(x-y)\n",
        "y=(x*10)/100\n",
        "if x>10000:\n",
        "  print(\"the discount fare\",y)\n",
        "  print(x-y)\n",
        "y=(x*5)/100\n",
        "if x<10000:\n",
        "  print(\"the discount fare\",y)\n",
        "  print(x-y)\n",
        "    "
      ],
      "metadata": {
        "colab": {
          "base_uri": "https://localhost:8080/"
        },
        "id": "ANRqe3Ncu4Kq",
        "outputId": "041e7104-e019-4f7f-8b11-f53afe65d802"
      },
      "execution_count": null,
      "outputs": [
        {
          "output_type": "stream",
          "name": "stdout",
          "text": [
            "enter the total fare1000\n",
            "the discount fare 50.0\n",
            "950.0\n"
          ]
        }
      ]
    },
    {
      "cell_type": "code",
      "source": [
        "x=int(input(\"enter a number\"))\n",
        "if x>0:\n",
        "  print(\"positive\")\n",
        "elif x<0:\n",
        "  print(\"negative\")\n",
        "else:\n",
        "  print(\"zero\")    "
      ],
      "metadata": {
        "colab": {
          "base_uri": "https://localhost:8080/"
        },
        "id": "kDhEynpeyMAX",
        "outputId": "bf93475e-2f1c-4db3-8cba-10419cbf8d9b"
      },
      "execution_count": null,
      "outputs": [
        {
          "output_type": "stream",
          "name": "stdout",
          "text": [
            "enter a number-1\n",
            "negative\n"
          ]
        }
      ]
    },
    {
      "cell_type": "code",
      "source": [
        "x=int(input(\"enter the age\"))\n",
        "if x>=18:\n",
        "  print(\"adult\")\n",
        "elif x>=13 and x<18:\n",
        "  print(\"teenager\")\n",
        "elif x>=6 and x<=12:\n",
        "  print(\"kid\")\n",
        "elif x>=2 and x<6:\n",
        "  print(\"toddler\")\n",
        "else:\n",
        "  print(\"infant\")       "
      ],
      "metadata": {
        "colab": {
          "base_uri": "https://localhost:8080/"
        },
        "id": "SIkb7y721h7S",
        "outputId": "f58348ab-9461-4cdc-e5c7-f8c50158ce2f"
      },
      "execution_count": null,
      "outputs": [
        {
          "output_type": "stream",
          "name": "stdout",
          "text": [
            "enter the age85\n",
            "adult\n"
          ]
        }
      ]
    },
    {
      "cell_type": "code",
      "source": [
        "x=input(\"Passengers Initial \")\n",
        "if x==\"A\":\n",
        "  print(\"Vowel\")\n",
        "elif x==\"E\":\n",
        "  print(\"Vowel\")\n",
        "elif x==\"I\":\n",
        "  print(\"Vowel\")\n",
        "elif x==\"O\":\n",
        "  print(\"Vowel\")\n",
        "elif x==\"U\":\n",
        "  print(\"Vowel\")\n",
        "else:\n",
        "  print(\"Not Vowel\")"
      ],
      "metadata": {
        "colab": {
          "base_uri": "https://localhost:8080/"
        },
        "id": "R-KWKcPK3ttK",
        "outputId": "74faad5d-5d86-4e69-b83a-1c9e967fd4b4"
      },
      "execution_count": null,
      "outputs": [
        {
          "output_type": "stream",
          "name": "stdout",
          "text": [
            "Passengers Initial A\n",
            "Vowel\n"
          ]
        }
      ]
    },
    {
      "cell_type": "code",
      "source": [
        "x=int(input(\"Enter Starting Value \"))\n",
        "y=int(input(\"Enter Ending Value \"))\n",
        "z=range(x,y) \n",
        "for a in z:\n",
        "  if a%2!=0 :\n",
        "    print(a)"
      ],
      "metadata": {
        "colab": {
          "base_uri": "https://localhost:8080/"
        },
        "id": "fZKdbTg96Iri",
        "outputId": "fdb8e9f2-492d-4969-98cd-dc612f638b76"
      },
      "execution_count": null,
      "outputs": [
        {
          "output_type": "stream",
          "name": "stdout",
          "text": [
            "Enter Starting Value 4\n",
            "Enter Ending Value 8\n",
            "5\n",
            "7\n"
          ]
        }
      ]
    },
    {
      "cell_type": "code",
      "source": [
        "x=input(\"enter your name\")\n",
        "for a in x:\n",
        "  print(a)"
      ],
      "metadata": {
        "colab": {
          "base_uri": "https://localhost:8080/"
        },
        "id": "J3ReQQa27CxU",
        "outputId": "db0ae431-8a2d-4eb2-9933-0e553287be42"
      },
      "execution_count": null,
      "outputs": [
        {
          "output_type": "stream",
          "name": "stdout",
          "text": [
            "enter your nameamaan\n",
            "a\n",
            "m\n",
            "a\n",
            "a\n",
            "n\n"
          ]
        }
      ]
    },
    {
      "cell_type": "code",
      "source": [],
      "metadata": {
        "id": "0ctrsl_L9f6M"
      },
      "execution_count": null,
      "outputs": []
    }
  ]
}