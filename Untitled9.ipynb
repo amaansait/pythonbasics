{
  "nbformat": 4,
  "nbformat_minor": 0,
  "metadata": {
    "colab": {
      "provenance": [],
      "authorship_tag": "ABX9TyM0oVBj06Jax4Zg2AxSYysm",
      "include_colab_link": true
    },
    "kernelspec": {
      "name": "python3",
      "display_name": "Python 3"
    },
    "language_info": {
      "name": "python"
    }
  },
  "cells": [
    {
      "cell_type": "markdown",
      "metadata": {
        "id": "view-in-github",
        "colab_type": "text"
      },
      "source": [
        "<a href=\"https://colab.research.google.com/github/amaansait/pythonbasics/blob/main/Untitled9.ipynb\" target=\"_parent\"><img src=\"https://colab.research.google.com/assets/colab-badge.svg\" alt=\"Open In Colab\"/></a>"
      ]
    },
    {
      "cell_type": "code",
      "execution_count": null,
      "metadata": {
        "colab": {
          "base_uri": "https://localhost:8080/"
        },
        "id": "vGIMc8hphG8b",
        "outputId": "b067e8bc-8768-4e6c-b00a-5a44a749e0e8"
      },
      "outputs": [
        {
          "output_type": "stream",
          "name": "stdout",
          "text": [
            "enter a number-10\n",
            "10\n"
          ]
        }
      ],
      "source": [
        "x=int(input(\"enter a number\"))\n",
        "if x<0:\n",
        "  print(x*-1)\n",
        "else:\n",
        "  print(x*1)"
      ]
    },
    {
      "cell_type": "code",
      "source": [
        "x=int(input(\"enter a number\"))\n",
        "if x>80:\n",
        "  print(\"A\")\n",
        "elif x>60 and x<=80:\n",
        "  print(\"B\")\n",
        "elif x>50 and x<=60:\n",
        "  print(\"c\")\n",
        "elif x>45 and x<=50:\n",
        "  print(\"D\")\n",
        "elif x>25 and x<=45:\n",
        "  print(\"E\")\n",
        "else:\n",
        "  print(\"f\")          "
      ],
      "metadata": {
        "id": "VmH2RXkBjV3m",
        "colab": {
          "base_uri": "https://localhost:8080/"
        },
        "outputId": "6fe918f9-69fd-4f2b-c5a1-3c0300f03807"
      },
      "execution_count": 4,
      "outputs": [
        {
          "output_type": "stream",
          "name": "stdout",
          "text": [
            "enter a number10\n",
            "f\n"
          ]
        }
      ]
    },
    {
      "cell_type": "code",
      "source": [
        "x=int(input(\"enter the no.of classes\"))\n",
        "y=int(input(\"enter the no.of classes attended\"))\n",
        "z= y/x*100\n",
        "if z>=75:\n",
        "  print(\"u r allowed to write exam\")\n",
        "else:\n",
        "  print(\"u r not allowed to write exam\")\n"
      ],
      "metadata": {
        "colab": {
          "base_uri": "https://localhost:8080/"
        },
        "id": "6j1GvEral2M6",
        "outputId": "f22b967e-f5c7-4f62-dc42-5a4c20afdaad"
      },
      "execution_count": 9,
      "outputs": [
        {
          "output_type": "stream",
          "name": "stdout",
          "text": [
            "enter the no.of classes80\n",
            "enter the no.of classes attended20\n",
            "u r not allowed to write exam\n"
          ]
        }
      ]
    },
    {
      "cell_type": "code",
      "source": [
        "print(\"1.addition\")\n",
        "print(\"2.subtraction\")\n",
        "print(\"3.multiplication\")\n",
        "print(\"4.division\")\n",
        "print(\"5.modulus\")\n",
        "print(\"6.floor division\")\n",
        "print(\"7.exponent\")\n",
        "x=int(input(\"select a number\"))\n",
        "m1=int(input(\"enter a number\"))\n",
        "m2=int(input(\"enter a number\"))\n",
        "if x==1:\n",
        "  print(m1+m2)\n",
        "if x==2:\n",
        "  print(m1-m2)\n",
        "if x==3:\n",
        "  print(m1*m2)\n",
        "if x==4:\n",
        "  print(m1/m2)\n",
        "if x==5:\n",
        "  print(m1%m2)   \n",
        "if x==6:\n",
        "  print(m1//m2)\n",
        "if x==7:\n",
        "  print(m1**m2)       \n",
        "else:\n",
        "  print(\"thank you\")  "
      ],
      "metadata": {
        "colab": {
          "base_uri": "https://localhost:8080/"
        },
        "id": "QD2ilRrroSVr",
        "outputId": "57c6d21b-23b8-4000-9423-0f4fa5cf3d8a"
      },
      "execution_count": 14,
      "outputs": [
        {
          "output_type": "stream",
          "name": "stdout",
          "text": [
            "1.addition\n",
            "2.subtraction\n",
            "3.multiplication\n",
            "4.division\n",
            "5.modulus\n",
            "6.floor division\n",
            "7.exponent\n",
            "select a number3\n",
            "enter a number5\n",
            "enter a number5\n",
            "25\n",
            "thank you\n"
          ]
        }
      ]
    },
    {
      "cell_type": "code",
      "source": [
        "m1=int(input('Enter marks of first subject '))\n",
        "m2=int(input('Enter marks of second subject '))\n",
        "m3=int(input('Enter marks of third subject '))\n",
        "m4=int(input('Enter marks of fourth subject '))\n",
        "m5=int(input('Enter marks of fifth subject '))\n",
        "print('Least marks:',min(m1,m2,m3,m4,m5))\n",
        "print('Maximum marks:',max(m1,m2,m3,m4,m5))\n"
      ],
      "metadata": {
        "colab": {
          "base_uri": "https://localhost:8080/"
        },
        "id": "YFABf35iqi0p",
        "outputId": "1ef696f1-dc5a-4bf1-ea9d-461a6aee4fc5"
      },
      "execution_count": 23,
      "outputs": [
        {
          "output_type": "stream",
          "name": "stdout",
          "text": [
            "Enter marks of first subject 80\n",
            "Enter marks of second subject 60\n",
            "Enter marks of third subject 70\n",
            "Enter marks of fourth subject 85\n",
            "Enter marks of fifth subject 90\n",
            "Least marks: 60\n",
            "Maximum marks: 90\n"
          ]
        }
      ]
    },
    {
      "cell_type": "code",
      "source": [
        "x=input(\"enter a name\")\n",
        "if x.isupper():\n",
        "  print(x.lower())\n",
        "if x.islower():\n",
        "  print(x.upper())\n",
        "len(x)  \n",
        "\n"
      ],
      "metadata": {
        "colab": {
          "base_uri": "https://localhost:8080/"
        },
        "id": "4U4QHFtAwxq7",
        "outputId": "13daef27-53f9-4ddb-9840-5c76e3def19f"
      },
      "execution_count": 44,
      "outputs": [
        {
          "output_type": "stream",
          "name": "stdout",
          "text": [
            "enter a nameAMAAN\n",
            "amaan\n"
          ]
        },
        {
          "output_type": "execute_result",
          "data": {
            "text/plain": [
              "5"
            ]
          },
          "metadata": {},
          "execution_count": 44
        }
      ]
    },
    {
      "cell_type": "code",
      "source": [],
      "metadata": {
        "id": "nJnIoKnA1X7l"
      },
      "execution_count": null,
      "outputs": []
    }
  ]
}