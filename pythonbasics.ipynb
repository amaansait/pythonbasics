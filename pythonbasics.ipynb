{
  "nbformat": 4,
  "nbformat_minor": 0,
  "metadata": {
    "colab": {
      "provenance": [],
      "authorship_tag": "ABX9TyNFkX39RfPmXZNq1lEEtxta",
      "include_colab_link": true
    },
    "kernelspec": {
      "name": "python3",
      "display_name": "Python 3"
    },
    "language_info": {
      "name": "python"
    }
  },
  "cells": [
    {
      "cell_type": "markdown",
      "metadata": {
        "id": "view-in-github",
        "colab_type": "text"
      },
      "source": [
        "<a href=\"https://colab.research.google.com/github/amaansait/pythonbasics/blob/main/pythonbasics.ipynb\" target=\"_parent\"><img src=\"https://colab.research.google.com/assets/colab-badge.svg\" alt=\"Open In Colab\"/></a>"
      ]
    },
    {
      "cell_type": "code",
      "execution_count": null,
      "metadata": {
        "id": "vXY54BrG0ku8"
      },
      "outputs": [],
      "source": []
    },
    {
      "cell_type": "code",
      "execution_count": 1,
      "metadata": {
        "colab": {
          "base_uri": "https://localhost:8080/"
        },
        "id": "SjuUjED10oLj",
        "outputId": "a0ce48b1-c9de-4f77-af9a-cc1b839208fe"
      },
      "outputs": [
        {
          "output_type": "stream",
          "name": "stdout",
          "text": [
            "500000\n",
            "you are taxable frfr 25000.0\n"
          ]
        }
      ],
      "source": []
    },
    {
      "cell_type": "code",
      "source": [
        "salary=int(input())\n",
        "if salary>250000:\n",
        "  print(\"tax\")\n",
        "if 250000<salary<500000:\n",
        "  print((salary-250000)*10/100)\n",
        "if 500000< salary <750000:\n",
        "  print((salary-500000)*20/100)\n",
        "if salary<750000:\n",
        " print((salary-750000)*30/100)"
      ],
      "metadata": {
        "colab": {
          "base_uri": "https://localhost:8080/"
        },
        "id": "PWDNC2W00rME",
        "outputId": "404baace-3201-44da-e101-6423f8278674"
      },
      "execution_count": 2,
      "outputs": [
        {
          "output_type": "stream",
          "name": "stdout",
          "text": [
            "400000\n",
            "tax\n",
            "15000.0\n",
            "-105000.0\n"
          ]
        }
      ]
    },
    {
      "cell_type": "code",
      "source": [
        "s=int(input(\"enter the salary \"))\n",
        "if s<250000:\n",
        "    print(\"not taxable\")\n",
        "if s>=250000 and s<500000:\n",
        "    p=s-250000\n",
        "    y=10/100*p\n",
        "    print(\"taxable amt is\",p)\n",
        "    print(\"tax amt\",y)\n",
        "if s>=500000 and s<750000:\n",
        "    p=s-500000\n",
        "    y=20/100*p\n",
        "    c=y+25000\n",
        "    print(\"taxable amt is\",p)\n",
        "    print(\"tax amt is\",c)\n",
        "if s>=750000 and s<1000000:\n",
        "    p=s-7500000\n",
        "    y=30/100*p\n",
        "    c=y+125000\n",
        "    print(\"taxable amt is\",p)\n",
        "    print(\"TAX AMT IS\",c)\n",
        "if s>1000000:\n",
        "    p=s-1000000\n",
        "    y=32/100*p\n",
        "    c=y+275000\n",
        "    print(\"taxable amt is\",p)\n",
        "    print(\"tax amt is \",c)"
      ],
      "metadata": {
        "colab": {
          "base_uri": "https://localhost:8080/"
        },
        "id": "8agE9niv1Hij",
        "outputId": "03bdd551-8d67-4a02-d680-81090a3b11db"
      },
      "execution_count": 3,
      "outputs": [
        {
          "output_type": "stream",
          "name": "stdout",
          "text": [
            "enter the salary 400000\n",
            "taxable amt is 150000\n",
            "tax amt 15000.0\n"
          ]
        }
      ]
    },
    {
      "cell_type": "code",
      "source": [],
      "metadata": {
        "id": "dk0rOSNn4eQm"
      },
      "execution_count": null,
      "outputs": []
    }
  ]
}